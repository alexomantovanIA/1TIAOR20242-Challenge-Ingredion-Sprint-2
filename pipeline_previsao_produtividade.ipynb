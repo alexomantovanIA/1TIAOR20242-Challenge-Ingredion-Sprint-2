{
 "cells": [
  {
   "cell_type": "markdown",
   "id": "3c056f3b",
   "metadata": {},
   "source": [
    "## Descrição"
   ]
  },
  {
   "cell_type": "markdown",
   "id": "10491745",
   "metadata": {},
   "source": [
    "# Sprint 2 – Modelo de Previsão de Produtividade Agrícola\n",
    "\n",
    "Este notebook executa o pipeline completo de pré-processamento, análise e modelagem para prever a produtividade agrícola na região de Três Corações (MG), utilizando dados históricos de NDVI, clima e produtividade.\n"
   ]
  },
  {
   "cell_type": "markdown",
   "id": "f8e8e74e",
   "metadata": {},
   "source": [
    "## Imports"
   ]
  },
  {
   "cell_type": "code",
   "execution_count": 18,
   "id": "c7cacc73",
   "metadata": {},
   "outputs": [],
   "source": [
    "import pandas as pd\n",
    "import numpy as np\n",
    "import matplotlib.pyplot as plt\n",
    "from sklearn.preprocessing import StandardScaler\n",
    "from sklearn.linear_model import LinearRegression\n",
    "from sklearn.ensemble import RandomForestRegressor\n",
    "from xgboost import XGBRegressor\n",
    "from sklearn.metrics import mean_absolute_error, mean_squared_error, r2_score\n",
    "import joblib\n"
   ]
  },
  {
   "cell_type": "markdown",
   "id": "5dc66437",
   "metadata": {},
   "source": [
    "\n",
    "## Caminhos dos Arquivos"
   ]
  },
  {
   "cell_type": "code",
   "execution_count": 19,
   "id": "592bbba8",
   "metadata": {},
   "outputs": [],
   "source": [
    "# Atualize os caminhos conforme necessário\n",
    "path_ndvi = \"files/ndvi_tres_coracoes.csv\"\n",
    "path_prod = \"files/producao_cafe_tres_coracoes.csv\"\n",
    "paths_clima = [\n",
    "    \"files/INMET_SE_MG_A515_VARGINHA_01-01-2021_A_31-12-2021.CSV\",\n",
    "    \"files/INMET_SE_MG_A515_VARGINHA_01-01-2022_A_31-12-2022.CSV\",\n",
    "    \"files/INMET_SE_MG_A515_VARGINHA_01-01-2023_A_31-12-2023.CSV\"\n",
    "]"
   ]
  },
  {
   "cell_type": "markdown",
   "id": "de1047a7",
   "metadata": {},
   "source": [
    "## Leitura e Processamento dos Dados Climáticos"
   ]
  },
  {
   "cell_type": "code",
   "execution_count": 20,
   "id": "9679c8cb",
   "metadata": {},
   "outputs": [],
   "source": [
    "def try_read_inmet_file(path):\n",
    "    return pd.read_csv(path, sep=\";\", encoding=\"latin1\", on_bad_lines=\"skip\")\n",
    "\n",
    "df_clima = pd.concat([try_read_inmet_file(p) for p in paths_clima], ignore_index=True)\n",
    "df_clima.columns = [c.strip().lower() for c in df_clima.columns]\n",
    "\n",
    "# Detectar e renomear colunas relevantes\n",
    "col_chuva = next((c for c in df_clima.columns if \"precipita\" in c and \"mm\" in c), None)\n",
    "col_temp = \"temperatura do ar - bulbo seco, horaria (ï¿½c)\"\n",
    "df_clima = df_clima.rename(columns={col_chuva: \"chuva_mm\", col_temp: \"temp_media\"})\n",
    "\n",
    "# Conversões\n",
    "df_clima[\"chuva_mm\"] = pd.to_numeric(df_clima[\"chuva_mm\"].astype(str).str.replace(\",\", \".\"), errors=\"coerce\")\n",
    "df_clima[\"temp_media\"] = pd.to_numeric(df_clima[\"temp_media\"].astype(str).str.replace(\",\", \".\"), errors=\"coerce\")\n",
    "df_clima[\"data\"] = pd.to_datetime(df_clima[\"data\"], errors=\"coerce\", dayfirst=True)\n",
    "df_clima = df_clima.dropna(subset=[\"data\", \"chuva_mm\", \"temp_media\"])\n",
    "df_clima[\"ano\"] = df_clima[\"data\"].dt.year\n",
    "\n",
    "clima_agregado = df_clima.groupby(\"ano\").agg({\n",
    "    \"chuva_mm\": \"sum\",\n",
    "    \"temp_media\": \"mean\"\n",
    "}).reset_index()\n"
   ]
  },
  {
   "cell_type": "markdown",
   "id": "ead00501",
   "metadata": {},
   "source": [
    "## Processamento NDVI"
   ]
  },
  {
   "cell_type": "code",
   "execution_count": 21,
   "id": "c0408378",
   "metadata": {},
   "outputs": [],
   "source": [
    "df_ndvi = pd.read_csv(path_ndvi, sep=\";\", encoding=\"latin1\")\n",
    "df_ndvi = df_ndvi.rename(columns={\"Data\": \"data\", \"NDVI\": \"ndvi\"})\n",
    "df_ndvi[\"data\"] = pd.to_datetime(df_ndvi[\"data\"], dayfirst=True, errors=\"coerce\")\n",
    "df_ndvi[\"ndvi\"] = pd.to_numeric(df_ndvi[\"ndvi\"].astype(str).str.replace(\",\", \".\"), errors=\"coerce\")\n",
    "df_ndvi = df_ndvi.dropna()\n",
    "df_ndvi = df_ndvi.set_index(\"data\").resample(\"7D\")[\"ndvi\"].mean().to_frame()\n",
    "df_ndvi[\"ndvi\"] = df_ndvi[\"ndvi\"].interpolate(method=\"linear\")\n",
    "df_ndvi[\"mes\"] = df_ndvi.index.month\n",
    "df_ndvi[\"ano\"] = df_ndvi.index.year\n",
    "\n",
    "ndvi_agregado = df_ndvi.groupby(\"ano\").agg({\n",
    "    \"ndvi\": [\"mean\", \"max\", \"min\", \"std\"]\n",
    "})\n",
    "ndvi_agregado.columns = [\"ndvi_mean\", \"ndvi_max\", \"ndvi_min\", \"ndvi_std\"]\n",
    "ndvi_agregado = ndvi_agregado.reset_index()\n"
   ]
  },
  {
   "cell_type": "markdown",
   "id": "93ae7863",
   "metadata": {},
   "source": [
    "## Produtividade"
   ]
  },
  {
   "cell_type": "code",
   "execution_count": 22,
   "id": "21537aa9",
   "metadata": {},
   "outputs": [],
   "source": [
    "df_prod = pd.read_csv(path_prod)\n",
    "df_prod = df_prod.rename(columns={\"rendimento_kg_ha\": \"prod_kg_ha\"})\n",
    "df_prod = df_prod[[\"ano\", \"prod_kg_ha\"]]\n",
    "df_prod = df_prod[df_prod[\"ano\"].isin(ndvi_agregado[\"ano\"])]\n"
   ]
  },
  {
   "cell_type": "markdown",
   "id": "b3a81ac4",
   "metadata": {},
   "source": [
    "## Visualização do Talhão Monitorado (SATVeg)\n",
    "\n",
    "A área de estudo foi extraída da plataforma SATVeg/Embrapa, com delimitação manual do talhão produtivo na região de Três Corações (MG). As imagens abaixo evidenciam o recorte espacial utilizado para extração dos índices NDVI, bem como a curva temporal NDVI semanal:\n",
    "\n",
    "![Mapa do Talhão - SATVeg](files/talhao.png)\n",
    "\n",
    "A curva temporal de NDVI entre 2021 e 2023 mostra os ciclos vegetativos da cultura do café, com estabilidade no padrão intra-anual, validando sua utilidade como variável explicativa da produtividade:\n",
    "\n",
    "![NDVI por Semana (2021–2023)](files/ndvi_tres_coracoes.png)\n",
    "\n",
    "Embora não tenhamos utilizado vetores geográficos para segmentação automática, o talhão foi manualmente delineado para garantir que a série NDVI analisada representasse a área de cultivo real. Essa abordagem atende ao objetivo de segmentar espacialmente os dados para modelagem agrícola."
   ]
  },
  {
   "cell_type": "markdown",
   "id": "730e52b6",
   "metadata": {},
   "source": [
    "## Junção e Normalização"
   ]
  },
  {
   "cell_type": "code",
   "execution_count": 23,
   "id": "656d4f81",
   "metadata": {},
   "outputs": [],
   "source": [
    "df_final = ndvi_agregado.merge(df_prod, on=\"ano\")\n",
    "df_final = df_final.merge(clima_agregado, on=\"ano\")\n",
    "\n",
    "scaler = StandardScaler()\n",
    "colunas_norm = [\"ndvi_mean\", \"ndvi_max\", \"ndvi_min\", \"ndvi_std\", \"chuva_mm\", \"temp_media\"]\n",
    "df_final_scaled = df_final.copy()\n",
    "df_final_scaled[colunas_norm] = scaler.fit_transform(df_final_scaled[colunas_norm])\n"
   ]
  },
  {
   "cell_type": "markdown",
   "id": "b9197ede",
   "metadata": {},
   "source": [
    "## Modelagem"
   ]
  },
  {
   "cell_type": "code",
   "execution_count": 24,
   "id": "d5c1e2c6",
   "metadata": {},
   "outputs": [
    {
     "name": "stderr",
     "output_type": "stream",
     "text": [
      "/opt/homebrew/lib/python3.11/site-packages/sklearn/metrics/_regression.py:1211: UndefinedMetricWarning: R^2 score is not well-defined with less than two samples.\n",
      "  warnings.warn(msg, UndefinedMetricWarning)\n",
      "/opt/homebrew/lib/python3.11/site-packages/sklearn/metrics/_regression.py:1211: UndefinedMetricWarning: R^2 score is not well-defined with less than two samples.\n",
      "  warnings.warn(msg, UndefinedMetricWarning)\n",
      "/opt/homebrew/lib/python3.11/site-packages/sklearn/metrics/_regression.py:1211: UndefinedMetricWarning: R^2 score is not well-defined with less than two samples.\n",
      "  warnings.warn(msg, UndefinedMetricWarning)\n"
     ]
    },
    {
     "data": {
      "text/html": [
       "<div>\n",
       "<style scoped>\n",
       "    .dataframe tbody tr th:only-of-type {\n",
       "        vertical-align: middle;\n",
       "    }\n",
       "\n",
       "    .dataframe tbody tr th {\n",
       "        vertical-align: top;\n",
       "    }\n",
       "\n",
       "    .dataframe thead th {\n",
       "        text-align: right;\n",
       "    }\n",
       "</style>\n",
       "<table border=\"1\" class=\"dataframe\">\n",
       "  <thead>\n",
       "    <tr style=\"text-align: right;\">\n",
       "      <th></th>\n",
       "      <th>Modelo</th>\n",
       "      <th>MAE</th>\n",
       "      <th>RMSE</th>\n",
       "      <th>R²</th>\n",
       "    </tr>\n",
       "  </thead>\n",
       "  <tbody>\n",
       "    <tr>\n",
       "      <th>0</th>\n",
       "      <td>LinearRegression</td>\n",
       "      <td>376.470989</td>\n",
       "      <td>376.470989</td>\n",
       "      <td>NaN</td>\n",
       "    </tr>\n",
       "    <tr>\n",
       "      <th>1</th>\n",
       "      <td>RandomForest</td>\n",
       "      <td>250.800000</td>\n",
       "      <td>250.800000</td>\n",
       "      <td>NaN</td>\n",
       "    </tr>\n",
       "    <tr>\n",
       "      <th>2</th>\n",
       "      <td>XGBoost</td>\n",
       "      <td>359.999023</td>\n",
       "      <td>359.999023</td>\n",
       "      <td>NaN</td>\n",
       "    </tr>\n",
       "  </tbody>\n",
       "</table>\n",
       "</div>"
      ],
      "text/plain": [
       "             Modelo         MAE        RMSE  R²\n",
       "0  LinearRegression  376.470989  376.470989 NaN\n",
       "1      RandomForest  250.800000  250.800000 NaN\n",
       "2           XGBoost  359.999023  359.999023 NaN"
      ]
     },
     "execution_count": 24,
     "metadata": {},
     "output_type": "execute_result"
    }
   ],
   "source": [
    "X = df_final_scaled[colunas_norm]\n",
    "y = df_final_scaled[\"prod_kg_ha\"]\n",
    "X_train, X_test = X[y.index != 2], X[y.index == 2]\n",
    "y_train, y_test = y[y.index != 2], y[y.index == 2]\n",
    "\n",
    "modelos = {\n",
    "    \"LinearRegression\": LinearRegression(),\n",
    "    \"RandomForest\": RandomForestRegressor(random_state=42),\n",
    "    \"XGBoost\": XGBRegressor(random_state=42, verbosity=0)\n",
    "}\n",
    "\n",
    "resultados = []\n",
    "for nome, modelo in modelos.items():\n",
    "    modelo.fit(X_train, y_train)\n",
    "    y_pred = modelo.predict(X_test)\n",
    "    resultados.append({\n",
    "        \"Modelo\": nome,\n",
    "        \"MAE\": mean_absolute_error(y_test, y_pred),\n",
    "        \"RMSE\": np.sqrt(mean_squared_error(y_test, y_pred)),\n",
    "        \"R²\": r2_score(y_test, y_pred)\n",
    "    })\n",
    "    joblib.dump(modelo, f\"modelo_{nome}.joblib\")\n",
    "\n",
    "df_resultados = pd.DataFrame(resultados)\n",
    "df_resultados.to_csv(\"metricas_modelos.csv\", index=False)\n",
    "df_resultados\n"
   ]
  },
  {
   "cell_type": "code",
   "execution_count": 25,
   "id": "a66a9665",
   "metadata": {},
   "outputs": [],
   "source": [
    "## Visualização Final"
   ]
  },
  {
   "cell_type": "code",
   "execution_count": 26,
   "id": "77d25465",
   "metadata": {},
   "outputs": [
    {
     "data": {
      "image/png": "[encoded data removed]",
      "text/plain": [
       "<Figure size 640x480 with 1 Axes>"
      ]
     },
     "metadata": {},
     "output_type": "display_data"
    }
   ],
   "source": [
    "plt.figure()\n",
    "for nome, modelo in modelos.items():\n",
    "    y_pred = modelo.predict(X_test)\n",
    "    plt.scatter(y_test, y_pred, label=nome)\n",
    "\n",
    "plt.plot(y_test, y_test, color=\"black\", linestyle=\"--\", label=\"Ideal\")\n",
    "plt.xlabel(\"Produtividade Observada (normalizada)\")\n",
    "plt.ylabel(\"Produtividade Predita\")\n",
    "plt.title(\"Predição vs Observação (Ano 2023)\")\n",
    "plt.legend()\n",
    "plt.grid(True)\n",
    "plt.show()\n"
   ]
  }
 ],
 "metadata": {
  "kernelspec": {
   "display_name": "Python 3",
   "language": "python",
   "name": "python3"
  },
  "language_info": {
   "codemirror_mode": {
    "name": "ipython",
    "version": 3
   },
   "file_extension": ".py",
   "mimetype": "text/x-python",
   "name": "python",
   "nbconvert_exporter": "python",
   "pygments_lexer": "ipython3",
   "version": "3.11.6"
  }
 },
 "nbformat": 4,
 "nbformat_minor": 5
}
